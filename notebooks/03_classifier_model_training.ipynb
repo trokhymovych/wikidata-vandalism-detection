{
 "cells": [
  {
   "cell_type": "code",
   "execution_count": null,
   "id": "2fe1f2f6-10d4-450e-8f02-0d9233125e04",
   "metadata": {},
   "outputs": [
    {
     "name": "stderr",
     "output_type": "stream",
     "text": [
      "/srv/home/trokhymovych/venv/lib/python3.9/site-packages/tqdm/auto.py:21: TqdmWarning: IProgress not found. Please update jupyter and ipywidgets. See https://ipywidgets.readthedocs.io/en/stable/user_install.html\n",
      "  from .autonotebook import tqdm as notebook_tqdm\n"
     ]
    }
   ],
   "source": [
    "import numpy as np\n",
    "import pandas as pd\n",
    "from copy import deepcopy\n",
    "from tqdm import tqdm\n",
    "\n",
    "import pandas as pd\n",
    "from catboost import CatBoostClassifier, Pool\n",
    "from sklearn.utils.class_weight import compute_class_weight\n",
    "import numpy as np\n",
    "from tqdm import tqdm\n",
    "from sklearn.metrics import f1_score, roc_auc_score"
   ]
  },
  {
   "cell_type": "code",
   "execution_count": null,
   "id": "ad42e3ef-173d-4b53-9461-3cc69e8ecaa6",
   "metadata": {},
   "outputs": [],
   "source": [
    "dfs = [pd.read_csv(f\"../data/2024-04_content_batch_{i}.csv\") for i in tqdm(range(1,16))]\n",
    "df = pd.concat(dfs).reset_index(drop=True)\n",
    "print([len(d) for d in dfs])\n",
    "print(len(df))"
   ]
  },
  {
   "cell_type": "code",
   "execution_count": null,
   "id": "a1646fd7-3158-43bf-b57e-c184d0ff980f",
   "metadata": {},
   "outputs": [],
   "source": [
    "# loading text features: \n",
    "df_text = pd.read_csv(\"../data/mlm_text_features.csv\")\n",
    "\n",
    "# loading holdout dataset: \n",
    "holdout_test = pd.read_csv(\"../data/holdout/test_holdout.csv\", sep=\"\\t\")\n",
    "revs_check = set(holdout_test.rev)"
   ]
  },
  {
   "cell_type": "markdown",
   "id": "9425cf4c-ad58-430c-850e-cc702bd9058c",
   "metadata": {},
   "source": [
    "## Attempt to build the catboost model on-top: \n"
   ]
  },
  {
   "cell_type": "code",
   "execution_count": null,
   "id": "12a075be-7f0d-4035-8c7d-5ad988846ae6",
   "metadata": {},
   "outputs": [
    {
     "name": "stderr",
     "output_type": "stream",
     "text": [
      "/tmp/ipykernel_1069401/1562895737.py:1: DtypeWarning: Columns (13) have mixed types. Specify dtype option on import or set low_memory=False.\n",
      "  df_cat_full = pd.read_csv(\"data/2024-04_metadata.csv\")\n"
     ]
    }
   ],
   "source": [
    "df_cat_full = pd.read_csv(\"../data/2024-04_metadata.csv\")"
   ]
  },
  {
   "cell_type": "code",
   "execution_count": null,
   "id": "6c94da19-b9bd-4f78-9ef0-ed9db0407879",
   "metadata": {},
   "outputs": [
    {
     "name": "stdout",
     "output_type": "stream",
     "text": [
      "6410636\n",
      "6410636\n"
     ]
    },
    {
     "name": "stderr",
     "output_type": "stream",
     "text": [
      "/tmp/ipykernel_1069401/3216782044.py:20: SettingWithCopyWarning: \n",
      "A value is trying to be set on a copy of a slice from a DataFrame.\n",
      "Try using .loc[row_indexer,col_indexer] = value instead\n",
      "\n",
      "See the caveats in the documentation: https://pandas.pydata.org/pandas-docs/stable/user_guide/indexing.html#returning-a-view-versus-a-copy\n",
      "  df_cat[\"is_lm_train\"] = df_cat.page_title.isin(ids_train_lm)\n"
     ]
    }
   ],
   "source": [
    "df[\"is_add\"] = df.added.apply(lambda x: x != \"{}\")\n",
    "df[\"is_remove\"] = df.removed.apply(lambda x: x != \"{}\")\n",
    "df[\"is_change\"] = df.changed.apply(lambda x: x != \"{}\")\n",
    "df[\"is_labels\"] = df.labels.apply(lambda x: x != \"{}\")\n",
    "df[\"is_descriptions\"] = df.descriptions.apply(lambda x: x != \"{}\")\n",
    "\n",
    "tmp_df = deepcopy(df)\n",
    "np.random.seed(42)\n",
    "unique_ids_all = list(df.page_title.unique())\n",
    "ids_train_lm = list(np.random.choice(unique_ids_all, size=int(0.8*len(unique_ids_all)), replace=False))\n",
    "\n",
    "df_cat = df_cat_full[df_cat_full.revision_id.isin(set(tmp_df.revision_id))]\n",
    "df_cat[\"is_lm_train\"] = df_cat.page_title.isin(ids_train_lm)\n",
    "\n",
    "print(len(df_cat))\n",
    "print(len(tmp_df))"
   ]
  },
  {
   "cell_type": "code",
   "execution_count": 6,
   "id": "79d1b986-5c63-4d1c-b3cb-117543001cd9",
   "metadata": {},
   "outputs": [],
   "source": [
    "y_col = 'revision_is_identity_reverted'\n",
    "\n",
    "cat_features = [\n",
    "       'user_is_bot',\n",
    "       'user_is_anonymous',\n",
    "       'event_user_groups-bot',\n",
    "       'event_user_groups-bureaucrat', 'event_user_groups-checkuser',\n",
    "       'event_user_groups-confirmed', 'event_user_groups-flood',\n",
    "       'event_user_groups-interface-admin', 'event_user_groups-ipblock-exempt',\n",
    "       'event_user_groups-propertycreator', 'event_user_groups-rollbacker',\n",
    "       'event_user_groups-suppress', 'event_user_groups-sysop',\n",
    "       'event_user_groups-translationadmin', 'event_user_groups-wikidata-staff',\n",
    "       # 'parent_same_user',  # <- Optional, as thould be implemented on revert risk lib\n",
    "       # 'taggs'  # <- skipped\n",
    "]\n",
    "\n",
    "numeric_features = [\n",
    "    \"user_age\",\n",
    "    \"page_seconds_since_previous_revision\",\n",
    "    \"page_age\",\n",
    "]\n",
    "\n",
    "text_features_mean = [\"add_score_mean\", \"remove_score_mean\", \"change_score_mean\"]\n",
    "text_features_max = [\"add_score_max\", \"remove_score_max\", \"change_score_max\"]"
   ]
  },
  {
   "cell_type": "code",
   "execution_count": null,
   "id": "e777a8bc-fafb-4237-81f1-d1f25e18a5d8",
   "metadata": {},
   "outputs": [],
   "source": [
    "# Features preparation:\n",
    "\n",
    "NUMERIC_NaN = -999\n",
    "CATEGORICAL_NaN = \"NaN\"\n",
    "\n",
    "## Text features: \n",
    "bert_scores_mean_dict = df_text.groupby([\"revision_id\", \"action_type\"]).scores.mean().to_dict()\n",
    "bert_scores_max_dict = df_text.groupby([\"revision_id\", \"action_type\"]).scores.max().to_dict()\n",
    "\n",
    "df_cat[\"add_score_mean\"] = df_cat.revision_id.apply(lambda x: bert_scores_mean_dict.get((x, 'add: '), NUMERIC_NaN))\n",
    "df_cat[\"remove_score_mean\"] = df_cat.revision_id.apply(lambda x: bert_scores_mean_dict.get((x, 'remove: '), NUMERIC_NaN))\n",
    "df_cat[\"change_score_mean\"] = df_cat.revision_id.apply(lambda x: bert_scores_mean_dict.get((x, 'change: '), NUMERIC_NaN))\n",
    "\n",
    "df_cat[\"add_score_max\"] = df_cat.revision_id.apply(lambda x: bert_scores_max_dict.get((x, 'add: '), NUMERIC_NaN))\n",
    "df_cat[\"remove_score_max\"] = df_cat.revision_id.apply(lambda x: bert_scores_max_dict.get((x, 'remove: '), NUMERIC_NaN))\n",
    "df_cat[\"change_score_max\"] = df_cat.revision_id.apply(lambda x: bert_scores_max_dict.get((x, 'change: '), NUMERIC_NaN))\n",
    "\n",
    "## Categorical Features Renaming: \n",
    "df_cat[\"user_is_bot\"] = df_cat[\"is_bot\"]\n",
    "df_cat[\"user_is_anonymous\"] = df_cat[\"event_user_is_anonymous\"]\n",
    "\n",
    "\n",
    "# Filling NaNs:\n",
    "df_cat[cat_features] = df_cat[cat_features].astype(str).fillna(CATEGORICAL_NaN)\n",
    "df_cat[numeric_features] = df_cat[numeric_features].fillna(NUMERIC_NaN)"
   ]
  },
  {
   "cell_type": "code",
   "execution_count": 8,
   "id": "e1057d69-4928-4009-b37a-255d48ebf64a",
   "metadata": {},
   "outputs": [],
   "source": [
    "## Train-Test split: \n",
    "\n",
    "ids_to_drop = df[(df.revision_is_identity_reverted == True) & ((df.self_revert) | (df.reverting_revision_is_reverted_revision))][\"revision_id\"].values\n",
    "ids_train = df[\n",
    "    (pd.to_datetime(df['event_timestamp']) < pd.to_datetime('2023-06-01')) & \n",
    "    (pd.to_datetime(df['event_timestamp']) > pd.to_datetime('2021-09-01'))\n",
    "].revision_id\n",
    "ids_holdout = df[\n",
    "    (pd.to_datetime(df['event_timestamp']) > pd.to_datetime('2023-06-01')) & \n",
    "    (pd.to_datetime(df['event_timestamp']) < pd.to_datetime('2023-09-01'))\n",
    "].revision_id\n",
    "\n",
    "test = df_cat[~df_cat.revision_id.isin(ids_to_drop)]  # Filter self reverts\n",
    "test = test[~test.revision_id.isin(revs_check)]  # filter experts scores\n",
    "test = test[test.revision_id.isin(ids_holdout)]  # filter time\n",
    "\n",
    "train = df_cat[~df_cat.revision_id.isin(ids_to_drop)]  # Filter self reverts\n",
    "train = train[~train.revision_id.isin(revs_check)]  # filter experts scores\n",
    "train = train[train.revision_id.isin(ids_train)]  # filter time\n",
    "train = train[~train.is_lm_train]  # filter revisions used in train LM\n",
    "\n",
    "val = df_cat[df_cat.revision_id.isin(revs_check)]"
   ]
  },
  {
   "cell_type": "code",
   "execution_count": 20,
   "id": "39afa2d6-702f-4303-a825-9f68d2d34583",
   "metadata": {},
   "outputs": [
    {
     "data": {
      "text/plain": [
       "838245"
      ]
     },
     "execution_count": 20,
     "metadata": {},
     "output_type": "execute_result"
    }
   ],
   "source": [
    "len(train)"
   ]
  },
  {
   "cell_type": "code",
   "execution_count": 21,
   "id": "5e2a1415-9c6c-43e9-b4d7-7825c16b6e5d",
   "metadata": {},
   "outputs": [
    {
     "data": {
      "text/plain": [
       "645264"
      ]
     },
     "execution_count": 21,
     "metadata": {},
     "output_type": "execute_result"
    }
   ],
   "source": [
    "len(test)"
   ]
  },
  {
   "cell_type": "code",
   "execution_count": 22,
   "id": "dc2b0a07-304e-40b3-8a8e-0be1b098780e",
   "metadata": {},
   "outputs": [
    {
     "data": {
      "text/plain": [
       "1293"
      ]
     },
     "execution_count": 22,
     "metadata": {},
     "output_type": "execute_result"
    }
   ],
   "source": [
    "len(val)"
   ]
  },
  {
   "cell_type": "markdown",
   "id": "f8eaf2c5",
   "metadata": {},
   "source": [
    "# Dummy model: "
   ]
  },
  {
   "cell_type": "code",
   "execution_count": null,
   "id": "f6076d07-b1f0-4687-aca7-38a22dbc0c28",
   "metadata": {},
   "outputs": [
    {
     "name": "stdout",
     "output_type": "stream",
     "text": [
      "Train features: ['user_is_bot', 'user_is_anonymous', 'event_user_groups-bot', 'event_user_groups-bureaucrat', 'event_user_groups-checkuser', 'event_user_groups-confirmed', 'event_user_groups-flood', 'event_user_groups-interface-admin', 'event_user_groups-ipblock-exempt', 'event_user_groups-propertycreator', 'event_user_groups-rollbacker', 'event_user_groups-suppress', 'event_user_groups-sysop', 'event_user_groups-translationadmin', 'event_user_groups-wikidata-staff', 'user_age', 'page_seconds_since_previous_revision', 'page_age']\n",
      "0:\tlearn: 0.6898161\ttest: 0.6901794\tbest: 0.6901794 (0)\ttotal: 457ms\tremaining: 19m 2s\n",
      "100:\tlearn: 0.4880878\ttest: 0.5046926\tbest: 0.5046926 (100)\ttotal: 27.1s\tremaining: 10m 44s\n",
      "200:\tlearn: 0.4284393\ttest: 0.4487530\tbest: 0.4487530 (200)\ttotal: 53.4s\tremaining: 10m 10s\n",
      "300:\tlearn: 0.4083730\ttest: 0.4302717\tbest: 0.4302717 (300)\ttotal: 1m 18s\tremaining: 9m 31s\n",
      "400:\tlearn: 0.3999661\ttest: 0.4229186\tbest: 0.4229186 (400)\ttotal: 1m 42s\tremaining: 8m 58s\n",
      "500:\tlearn: 0.3954493\ttest: 0.4195264\tbest: 0.4195264 (500)\ttotal: 2m 7s\tremaining: 8m 28s\n",
      "600:\tlearn: 0.3926234\ttest: 0.4176565\tbest: 0.4176565 (600)\ttotal: 2m 32s\tremaining: 8m\n",
      "700:\tlearn: 0.3905292\ttest: 0.4163478\tbest: 0.4163478 (700)\ttotal: 2m 56s\tremaining: 7m 32s\n",
      "800:\tlearn: 0.3888840\ttest: 0.4151427\tbest: 0.4151427 (800)\ttotal: 3m 20s\tremaining: 7m 6s\n",
      "900:\tlearn: 0.3876832\ttest: 0.4142483\tbest: 0.4142483 (900)\ttotal: 3m 44s\tremaining: 6m 38s\n",
      "1000:\tlearn: 0.3866680\ttest: 0.4136218\tbest: 0.4136218 (1000)\ttotal: 4m 8s\tremaining: 6m 12s\n",
      "1100:\tlearn: 0.3857983\ttest: 0.4132281\tbest: 0.4132281 (1100)\ttotal: 4m 32s\tremaining: 5m 46s\n",
      "1200:\tlearn: 0.3849970\ttest: 0.4129790\tbest: 0.4129790 (1200)\ttotal: 4m 56s\tremaining: 5m 20s\n",
      "1300:\tlearn: 0.3843234\ttest: 0.4127182\tbest: 0.4127182 (1300)\ttotal: 5m 19s\tremaining: 4m 54s\n",
      "1400:\tlearn: 0.3836964\ttest: 0.4125898\tbest: 0.4125898 (1400)\ttotal: 5m 43s\tremaining: 4m 29s\n",
      "1500:\tlearn: 0.3831089\ttest: 0.4125240\tbest: 0.4125240 (1500)\ttotal: 6m 6s\tremaining: 4m 4s\n",
      "1600:\tlearn: 0.3824999\ttest: 0.4125476\tbest: 0.4125240 (1500)\ttotal: 6m 29s\tremaining: 3m 38s\n",
      "1700:\tlearn: 0.3819830\ttest: 0.4125449\tbest: 0.4125240 (1500)\ttotal: 6m 52s\tremaining: 3m 13s\n",
      "1800:\tlearn: 0.3814912\ttest: 0.4126016\tbest: 0.4125240 (1500)\ttotal: 7m 14s\tremaining: 2m 48s\n",
      "1900:\tlearn: 0.3809967\ttest: 0.4126371\tbest: 0.4125240 (1500)\ttotal: 7m 38s\tremaining: 2m 24s\n",
      "2000:\tlearn: 0.3805482\ttest: 0.4126678\tbest: 0.4125240 (1500)\ttotal: 8m\tremaining: 1m 59s\n",
      "2100:\tlearn: 0.3801278\ttest: 0.4126818\tbest: 0.4125240 (1500)\ttotal: 8m 23s\tremaining: 1m 35s\n",
      "2200:\tlearn: 0.3797105\ttest: 0.4127354\tbest: 0.4125240 (1500)\ttotal: 8m 46s\tremaining: 1m 11s\n",
      "2300:\tlearn: 0.3793289\ttest: 0.4127735\tbest: 0.4125240 (1500)\ttotal: 9m 9s\tremaining: 47.5s\n",
      "2400:\tlearn: 0.3789676\ttest: 0.4128786\tbest: 0.4125240 (1500)\ttotal: 9m 31s\tremaining: 23.6s\n",
      "2499:\tlearn: 0.3785676\ttest: 0.4129820\tbest: 0.4125240 (1500)\ttotal: 9m 54s\tremaining: 0us\n",
      "\n",
      "bestTest = 0.4125240054\n",
      "bestIteration = 1500\n",
      "\n",
      "Shrink model to first 1501 iterations.\n"
     ]
    }
   ],
   "source": [
    "# Training the model: \n",
    "all_features_to_train = cat_features + numeric_features\n",
    "print(f\"Train features: {all_features_to_train}\")\n",
    "\n",
    "train_data = Pool(\n",
    "    data=train[all_features_to_train],\n",
    "    label=train[y_col].astype(int),\n",
    "    cat_features=cat_features\n",
    ")\n",
    "test_data = Pool(\n",
    "    data=test[all_features_to_train],\n",
    "    label=test[y_col].astype(int),\n",
    "    cat_features=cat_features\n",
    ")\n",
    "\n",
    "# balancing\n",
    "classes = np.unique(train[y_col].astype(int))\n",
    "weights = compute_class_weight(class_weight='balanced', classes=classes, y=train[y_col].astype(int))\n",
    "class_weights = dict(zip(classes, weights))\n",
    "\n",
    "# Initialize CatBoostClassifier:\n",
    "model_text = CatBoostClassifier(iterations=2500, metric_period=100, verbose=True, learning_rate=0.005,\n",
    "                           class_weights=class_weights, thread_count=30, use_best_model=True,\n",
    "                           custom_metric=['Logloss', 'AUC', 'Precision', 'Recall', 'F1', 'Accuracy'])\n",
    "# Fit model\n",
    "model_text.fit(train_data, eval_set=test_data, plot=False)\n",
    "model_text.save_model('../models/dummy_full_new.cbn')"
   ]
  },
  {
   "cell_type": "code",
   "execution_count": null,
   "id": "d6098ddd-84b5-47f0-8a1a-b96726bbde15",
   "metadata": {},
   "outputs": [
    {
     "name": "stdout",
     "output_type": "stream",
     "text": [
      "Train features: ['user_is_bot', 'user_is_anonymous', 'event_user_groups-bot', 'event_user_groups-bureaucrat', 'event_user_groups-checkuser', 'event_user_groups-confirmed', 'event_user_groups-flood', 'event_user_groups-interface-admin', 'event_user_groups-ipblock-exempt', 'event_user_groups-propertycreator', 'event_user_groups-rollbacker', 'event_user_groups-suppress', 'event_user_groups-sysop', 'event_user_groups-translationadmin', 'event_user_groups-wikidata-staff', 'user_age', 'page_seconds_since_previous_revision', 'page_age', 'add_score_mean', 'remove_score_mean', 'change_score_mean', 'add_score_max', 'remove_score_max', 'change_score_max']\n",
      "0:\tlearn: 0.6888418\ttest: 0.6892994\tbest: 0.6892994 (0)\ttotal: 340ms\tremaining: 14m 9s\n",
      "100:\tlearn: 0.4455518\ttest: 0.4716115\tbest: 0.4716115 (100)\ttotal: 26.5s\tremaining: 10m 29s\n",
      "200:\tlearn: 0.3774593\ttest: 0.4054228\tbest: 0.4054228 (200)\ttotal: 52s\tremaining: 9m 54s\n",
      "300:\tlearn: 0.3514354\ttest: 0.3794544\tbest: 0.3794544 (300)\ttotal: 1m 17s\tremaining: 9m 28s\n",
      "400:\tlearn: 0.3384684\ttest: 0.3662680\tbest: 0.3662680 (400)\ttotal: 1m 43s\tremaining: 9m 3s\n",
      "500:\tlearn: 0.3307501\ttest: 0.3588945\tbest: 0.3588945 (500)\ttotal: 2m 9s\tremaining: 8m 37s\n",
      "600:\tlearn: 0.3255026\ttest: 0.3542745\tbest: 0.3542745 (600)\ttotal: 2m 35s\tremaining: 8m 10s\n",
      "700:\tlearn: 0.3219134\ttest: 0.3512187\tbest: 0.3512187 (700)\ttotal: 3m\tremaining: 7m 44s\n",
      "800:\tlearn: 0.3193387\ttest: 0.3490583\tbest: 0.3490583 (800)\ttotal: 3m 26s\tremaining: 7m 18s\n",
      "900:\tlearn: 0.3173299\ttest: 0.3475047\tbest: 0.3475047 (900)\ttotal: 3m 52s\tremaining: 6m 52s\n",
      "1000:\tlearn: 0.3156830\ttest: 0.3462047\tbest: 0.3462047 (1000)\ttotal: 4m 17s\tremaining: 6m 25s\n",
      "1100:\tlearn: 0.3142976\ttest: 0.3452058\tbest: 0.3452058 (1100)\ttotal: 4m 42s\tremaining: 5m 59s\n",
      "1200:\tlearn: 0.3131199\ttest: 0.3443697\tbest: 0.3443697 (1200)\ttotal: 5m 8s\tremaining: 5m 33s\n",
      "1300:\tlearn: 0.3120724\ttest: 0.3437564\tbest: 0.3437564 (1300)\ttotal: 5m 33s\tremaining: 5m 7s\n",
      "1400:\tlearn: 0.3111829\ttest: 0.3432587\tbest: 0.3432587 (1400)\ttotal: 5m 57s\tremaining: 4m 40s\n",
      "1500:\tlearn: 0.3103562\ttest: 0.3428922\tbest: 0.3428922 (1500)\ttotal: 6m 22s\tremaining: 4m 14s\n",
      "1600:\tlearn: 0.3096070\ttest: 0.3425643\tbest: 0.3425643 (1600)\ttotal: 6m 46s\tremaining: 3m 48s\n",
      "1700:\tlearn: 0.3089352\ttest: 0.3422440\tbest: 0.3422440 (1700)\ttotal: 7m 10s\tremaining: 3m 22s\n",
      "1800:\tlearn: 0.3082683\ttest: 0.3419831\tbest: 0.3419831 (1800)\ttotal: 7m 34s\tremaining: 2m 56s\n",
      "1900:\tlearn: 0.3076401\ttest: 0.3417798\tbest: 0.3417798 (1900)\ttotal: 7m 58s\tremaining: 2m 30s\n",
      "2000:\tlearn: 0.3070664\ttest: 0.3416027\tbest: 0.3416027 (2000)\ttotal: 8m 23s\tremaining: 2m 5s\n",
      "2100:\tlearn: 0.3065255\ttest: 0.3414848\tbest: 0.3414848 (2100)\ttotal: 8m 47s\tremaining: 1m 40s\n",
      "2200:\tlearn: 0.3059635\ttest: 0.3414056\tbest: 0.3414056 (2200)\ttotal: 9m 12s\tremaining: 1m 14s\n",
      "2300:\tlearn: 0.3054911\ttest: 0.3412812\tbest: 0.3412812 (2300)\ttotal: 9m 35s\tremaining: 49.8s\n",
      "2400:\tlearn: 0.3050137\ttest: 0.3411884\tbest: 0.3411884 (2400)\ttotal: 10m\tremaining: 24.7s\n",
      "2499:\tlearn: 0.3045091\ttest: 0.3411043\tbest: 0.3411043 (2499)\ttotal: 10m 25s\tremaining: 0us\n",
      "\n",
      "bestTest = 0.3411042963\n",
      "bestIteration = 2499\n",
      "\n"
     ]
    }
   ],
   "source": [
    "# Training the model: \n",
    "all_features_to_train = cat_features + numeric_features + text_features_mean + text_features_max\n",
    "print(f\"Train features: {all_features_to_train}\")\n",
    "\n",
    "train_data = Pool(\n",
    "    data=train[all_features_to_train],\n",
    "    label=train[y_col].astype(int),\n",
    "    cat_features=cat_features\n",
    ")\n",
    "test_data = Pool(\n",
    "    data=test[all_features_to_train],\n",
    "    label=test[y_col].astype(int),\n",
    "    cat_features=cat_features\n",
    ")\n",
    "\n",
    "# balancing\n",
    "classes = np.unique(train[y_col].astype(int))\n",
    "weights = compute_class_weight(class_weight='balanced', classes=classes, y=train[y_col].astype(int))\n",
    "class_weights = dict(zip(classes, weights))\n",
    "\n",
    "# Initialize CatBoostClassifier:\n",
    "model_text = CatBoostClassifier(iterations=2500, metric_period=100, verbose=True, learning_rate=0.005,\n",
    "                           class_weights=class_weights, thread_count=30, use_best_model=True,\n",
    "                           custom_metric=['Logloss', 'AUC', 'Precision', 'Recall', 'F1', 'Accuracy'])\n",
    "# Fit model\n",
    "model_text.fit(train_data, eval_set=test_data, plot=False)\n",
    "model_text.save_model('../models/graph2text_full_new.cbn')"
   ]
  },
  {
   "cell_type": "code",
   "execution_count": null,
   "id": "c9c91a42-594f-4daa-9cd0-e6de184c2421",
   "metadata": {},
   "outputs": [
    {
     "name": "stdout",
     "output_type": "stream",
     "text": [
      "Train features: ['add_score_mean', 'remove_score_mean', 'change_score_mean', 'add_score_max', 'remove_score_max', 'change_score_max', 'page_seconds_since_previous_revision', 'page_age']\n",
      "0:\tlearn: 0.6898269\ttest: 0.6901261\tbest: 0.6901261 (0)\ttotal: 57ms\tremaining: 2m 22s\n",
      "100:\tlearn: 0.5026932\ttest: 0.5227993\tbest: 0.5227993 (100)\ttotal: 2.45s\tremaining: 58.2s\n",
      "200:\tlearn: 0.4447764\ttest: 0.4728503\tbest: 0.4728503 (200)\ttotal: 4.84s\tremaining: 55.4s\n",
      "300:\tlearn: 0.4214773\ttest: 0.4537155\tbest: 0.4537155 (300)\ttotal: 7.26s\tremaining: 53s\n",
      "400:\tlearn: 0.4104149\ttest: 0.4448052\tbest: 0.4448052 (400)\ttotal: 9.69s\tremaining: 50.7s\n",
      "500:\tlearn: 0.4043433\ttest: 0.4399487\tbest: 0.4399487 (500)\ttotal: 12s\tremaining: 47.9s\n",
      "600:\tlearn: 0.4004679\ttest: 0.4370720\tbest: 0.4370720 (600)\ttotal: 14.3s\tremaining: 45.3s\n",
      "700:\tlearn: 0.3976705\ttest: 0.4351118\tbest: 0.4351118 (700)\ttotal: 16.7s\tremaining: 42.8s\n",
      "800:\tlearn: 0.3955601\ttest: 0.4338069\tbest: 0.4338069 (800)\ttotal: 19s\tremaining: 40.3s\n",
      "900:\tlearn: 0.3939100\ttest: 0.4328259\tbest: 0.4328259 (900)\ttotal: 21.3s\tremaining: 37.7s\n",
      "1000:\tlearn: 0.3925331\ttest: 0.4320893\tbest: 0.4320893 (1000)\ttotal: 23.6s\tremaining: 35.4s\n",
      "1100:\tlearn: 0.3914380\ttest: 0.4315739\tbest: 0.4315739 (1100)\ttotal: 26s\tremaining: 33s\n",
      "1200:\tlearn: 0.3904529\ttest: 0.4311825\tbest: 0.4311825 (1200)\ttotal: 28.3s\tremaining: 30.7s\n",
      "1300:\tlearn: 0.3896939\ttest: 0.4308745\tbest: 0.4308745 (1300)\ttotal: 30.7s\tremaining: 28.3s\n",
      "1400:\tlearn: 0.3890197\ttest: 0.4306194\tbest: 0.4306194 (1400)\ttotal: 33.1s\tremaining: 26s\n",
      "1500:\tlearn: 0.3884269\ttest: 0.4304564\tbest: 0.4304564 (1500)\ttotal: 35.5s\tremaining: 23.7s\n",
      "1600:\tlearn: 0.3878900\ttest: 0.4303120\tbest: 0.4303120 (1600)\ttotal: 38s\tremaining: 21.3s\n",
      "1700:\tlearn: 0.3873927\ttest: 0.4301702\tbest: 0.4301702 (1700)\ttotal: 40.4s\tremaining: 19s\n",
      "1800:\tlearn: 0.3869285\ttest: 0.4300753\tbest: 0.4300753 (1800)\ttotal: 42.8s\tremaining: 16.6s\n",
      "1900:\tlearn: 0.3864945\ttest: 0.4299924\tbest: 0.4299924 (1900)\ttotal: 45.2s\tremaining: 14.2s\n",
      "2000:\tlearn: 0.3860623\ttest: 0.4299303\tbest: 0.4299303 (2000)\ttotal: 47.7s\tremaining: 11.9s\n",
      "2100:\tlearn: 0.3856825\ttest: 0.4299189\tbest: 0.4299189 (2100)\ttotal: 50.2s\tremaining: 9.54s\n",
      "2200:\tlearn: 0.3853086\ttest: 0.4298938\tbest: 0.4298938 (2200)\ttotal: 52.7s\tremaining: 7.15s\n",
      "2300:\tlearn: 0.3849305\ttest: 0.4298651\tbest: 0.4298651 (2300)\ttotal: 55.1s\tremaining: 4.77s\n",
      "2400:\tlearn: 0.3845907\ttest: 0.4298642\tbest: 0.4298642 (2400)\ttotal: 57.6s\tremaining: 2.37s\n",
      "2499:\tlearn: 0.3842638\ttest: 0.4298772\tbest: 0.4298642 (2400)\ttotal: 1m\tremaining: 0us\n",
      "\n",
      "bestTest = 0.4298641704\n",
      "bestIteration = 2400\n",
      "\n",
      "Shrink model to first 2401 iterations.\n"
     ]
    }
   ],
   "source": [
    "# Training the model: \n",
    "numeric_features_no_user = [\n",
    "    \"page_seconds_since_previous_revision\",\n",
    "    \"page_age\",\n",
    "]\n",
    "\n",
    "all_features_to_train = text_features_mean + text_features_max + numeric_features_no_user\n",
    "print(f\"Train features: {all_features_to_train}\")\n",
    "\n",
    "train_data = Pool(\n",
    "    data=train[all_features_to_train],\n",
    "    label=train[y_col].astype(int),\n",
    "    cat_features=[]\n",
    ")\n",
    "test_data = Pool(\n",
    "    data=test[all_features_to_train],\n",
    "    label=test[y_col].astype(int),\n",
    "    cat_features=[]\n",
    ")\n",
    "\n",
    "# balancing\n",
    "classes = np.unique(train[y_col].astype(int))\n",
    "weights = compute_class_weight(class_weight='balanced', classes=classes, y=train[y_col].astype(int))\n",
    "class_weights = dict(zip(classes, weights))\n",
    "\n",
    "# Initialize CatBoostClassifier:\n",
    "model_text_only = CatBoostClassifier(iterations=2500, metric_period=100, verbose=True, learning_rate=0.005,\n",
    "                           class_weights=class_weights, thread_count=30, use_best_model=True,\n",
    "                           custom_metric=['Logloss', 'AUC', 'Precision', 'Recall', 'F1', 'Accuracy'])\n",
    "# Fit model\n",
    "model_text_only.fit(train_data, eval_set=test_data, plot=False)\n",
    "model_text_only.save_model('../models/graph2text_only_full_new.cbn')"
   ]
  }
 ],
 "metadata": {
  "kernelspec": {
   "display_name": "venv",
   "language": "python",
   "name": "venv"
  },
  "language_info": {
   "codemirror_mode": {
    "name": "ipython",
    "version": 3
   },
   "file_extension": ".py",
   "mimetype": "text/x-python",
   "name": "python",
   "nbconvert_exporter": "python",
   "pygments_lexer": "ipython3",
   "version": "3.9.2"
  }
 },
 "nbformat": 4,
 "nbformat_minor": 5
}
